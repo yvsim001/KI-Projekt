{
  "cells": [
    {
      "cell_type": "markdown",
      "metadata": {
        "id": "view-in-github",
        "colab_type": "text"
      },
      "source": [
        "<a href=\"https://colab.research.google.com/github/yvsim001/KI-Projekt/blob/main/beispielNetz_MNIST.ipynb\" target=\"_parent\"><img src=\"https://colab.research.google.com/assets/colab-badge.svg\" alt=\"Open In Colab\"/></a>"
      ]
    },
    {
      "cell_type": "code",
      "execution_count": null,
      "metadata": {
        "id": "FaJ7jJu4VWV_"
      },
      "outputs": [],
      "source": [
        "import numpy as np\n",
        "import keras\n",
        "from keras import layers\n",
        "import matplotlib.pyplot as plt"
      ]
    },
    {
      "cell_type": "code",
      "execution_count": null,
      "metadata": {
        "colab": {
          "base_uri": "https://localhost:8080/",
          "height": 211
        },
        "id": "bosaalJbXDZb",
        "outputId": "fe6638f9-6c53-4e4c-9538-bd66aba2f06c"
      },
      "outputs": [
        {
          "output_type": "error",
          "ename": "NameError",
          "evalue": "name 'keras' is not defined",
          "traceback": [
            "\u001b[0;31m---------------------------------------------------------------------------\u001b[0m",
            "\u001b[0;31mNameError\u001b[0m                                 Traceback (most recent call last)",
            "\u001b[0;32m<ipython-input-1-347950b475d7>\u001b[0m in \u001b[0;36m<cell line: 6>\u001b[0;34m()\u001b[0m\n\u001b[1;32m      4\u001b[0m \u001b[0;34m\u001b[0m\u001b[0m\n\u001b[1;32m      5\u001b[0m \u001b[0;31m# Load the data and split it between train and test sets\u001b[0m\u001b[0;34m\u001b[0m\u001b[0;34m\u001b[0m\u001b[0m\n\u001b[0;32m----> 6\u001b[0;31m \u001b[0;34m(\u001b[0m\u001b[0mx_train\u001b[0m\u001b[0;34m,\u001b[0m \u001b[0my_train\u001b[0m\u001b[0;34m)\u001b[0m\u001b[0;34m,\u001b[0m \u001b[0;34m(\u001b[0m\u001b[0mx_test\u001b[0m\u001b[0;34m,\u001b[0m \u001b[0my_test\u001b[0m\u001b[0;34m)\u001b[0m \u001b[0;34m=\u001b[0m \u001b[0mkeras\u001b[0m\u001b[0;34m.\u001b[0m\u001b[0mdatasets\u001b[0m\u001b[0;34m.\u001b[0m\u001b[0mmnist\u001b[0m\u001b[0;34m.\u001b[0m\u001b[0mload_data\u001b[0m\u001b[0;34m(\u001b[0m\u001b[0;34m)\u001b[0m\u001b[0;34m\u001b[0m\u001b[0;34m\u001b[0m\u001b[0m\n\u001b[0m\u001b[1;32m      7\u001b[0m \u001b[0;34m\u001b[0m\u001b[0m\n\u001b[1;32m      8\u001b[0m \u001b[0;31m# Scale images to the [0, 1] range\u001b[0m\u001b[0;34m\u001b[0m\u001b[0;34m\u001b[0m\u001b[0m\n",
            "\u001b[0;31mNameError\u001b[0m: name 'keras' is not defined"
          ]
        }
      ],
      "source": [
        "# Model / data parameters\n",
        "num_classes = 10\n",
        "input_shape = (28, 28, 1)\n",
        "\n",
        "# Load the data and split it between train and test sets\n",
        "(x_train, y_train), (x_test, y_test) = keras.datasets.mnist.load_data()\n",
        "\n",
        "# Scale images to the [0, 1] range\n",
        "x_train = x_train.astype(\"float32\") / 255\n",
        "x_test = x_test.astype(\"float32\") / 255\n",
        "# Make sure images have shape (28, 28, 1)\n",
        "x_train = np.expand_dims(x_train, -1)\n",
        "x_test = np.expand_dims(x_test, -1)\n",
        "print(\"x_train shape:\", x_train.shape)\n",
        "print(x_train.shape[0], \"train samples\")\n",
        "print(x_test.shape[0], \"test samples\")\n",
        "\n",
        "\n",
        "# convert class vectors to binary class matrices\n",
        "y_train = keras.utils.to_categorical(y_train, num_classes)\n",
        "y_test = keras.utils.to_categorical(y_test, num_classes)\n"
      ]
    },
    {
      "cell_type": "code",
      "execution_count": null,
      "metadata": {
        "colab": {
          "base_uri": "https://localhost:8080/"
        },
        "id": "s4NfaK4gXGsw",
        "outputId": "0c83096c-5624-487a-9666-2f447c23fe8f"
      },
      "outputs": [
        {
          "output_type": "stream",
          "name": "stdout",
          "text": [
            "Model: \"sequential\"\n",
            "_________________________________________________________________\n",
            " Layer (type)                Output Shape              Param #   \n",
            "=================================================================\n",
            " conv2d (Conv2D)             (None, 26, 26, 32)        320       \n",
            "                                                                 \n",
            " max_pooling2d (MaxPooling2  (None, 13, 13, 32)        0         \n",
            " D)                                                              \n",
            "                                                                 \n",
            " conv2d_1 (Conv2D)           (None, 11, 11, 64)        18496     \n",
            "                                                                 \n",
            " max_pooling2d_1 (MaxPoolin  (None, 5, 5, 64)          0         \n",
            " g2D)                                                            \n",
            "                                                                 \n",
            " flatten (Flatten)           (None, 1600)              0         \n",
            "                                                                 \n",
            " dropout (Dropout)           (None, 1600)              0         \n",
            "                                                                 \n",
            " dense (Dense)               (None, 10)                16010     \n",
            "                                                                 \n",
            "=================================================================\n",
            "Total params: 34826 (136.04 KB)\n",
            "Trainable params: 34826 (136.04 KB)\n",
            "Non-trainable params: 0 (0.00 Byte)\n",
            "_________________________________________________________________\n"
          ]
        }
      ],
      "source": [
        "model = keras.Sequential(\n",
        "    [\n",
        "        keras.Input(shape=input_shape),\n",
        "        layers.Conv2D(32, kernel_size=(3, 3), activation=\"relu\"),\n",
        "        layers.MaxPooling2D(pool_size=(2, 2)),\n",
        "        layers.Conv2D(64, kernel_size=(3, 3), activation=\"relu\"),\n",
        "        layers.MaxPooling2D(pool_size=(2, 2)),\n",
        "        layers.Flatten(),\n",
        "        layers.Dropout(0.5),\n",
        "        layers.Dense(num_classes, activation=\"softmax\"),\n",
        "    ]\n",
        ")\n",
        "\n",
        "model.summary()\n"
      ]
    },
    {
      "cell_type": "code",
      "execution_count": null,
      "metadata": {
        "colab": {
          "base_uri": "https://localhost:8080/"
        },
        "id": "S-C8LKCIXJhL",
        "outputId": "b73752d2-e899-4b20-dcd3-b395105107f7"
      },
      "outputs": [
        {
          "output_type": "stream",
          "name": "stdout",
          "text": [
            "Epoch 1/15\n",
            "422/422 [==============================] - 48s 105ms/step - loss: 0.3840 - accuracy: 0.8827 - val_loss: 0.0844 - val_accuracy: 0.9762\n",
            "Epoch 2/15\n",
            "422/422 [==============================] - 39s 92ms/step - loss: 0.1124 - accuracy: 0.9656 - val_loss: 0.0554 - val_accuracy: 0.9845\n",
            "Epoch 3/15\n",
            "422/422 [==============================] - 39s 92ms/step - loss: 0.0860 - accuracy: 0.9737 - val_loss: 0.0485 - val_accuracy: 0.9857\n",
            "Epoch 4/15\n",
            "422/422 [==============================] - 39s 94ms/step - loss: 0.0710 - accuracy: 0.9783 - val_loss: 0.0459 - val_accuracy: 0.9863\n",
            "Epoch 5/15\n",
            "422/422 [==============================] - 38s 91ms/step - loss: 0.0631 - accuracy: 0.9805 - val_loss: 0.0385 - val_accuracy: 0.9887\n",
            "Epoch 6/15\n",
            "422/422 [==============================] - 39s 91ms/step - loss: 0.0571 - accuracy: 0.9822 - val_loss: 0.0365 - val_accuracy: 0.9900\n",
            "Epoch 7/15\n",
            "422/422 [==============================] - 37s 87ms/step - loss: 0.0523 - accuracy: 0.9836 - val_loss: 0.0332 - val_accuracy: 0.9903\n",
            "Epoch 8/15\n",
            "422/422 [==============================] - 38s 89ms/step - loss: 0.0479 - accuracy: 0.9849 - val_loss: 0.0348 - val_accuracy: 0.9892\n",
            "Epoch 9/15\n",
            "422/422 [==============================] - 38s 89ms/step - loss: 0.0440 - accuracy: 0.9864 - val_loss: 0.0329 - val_accuracy: 0.9892\n",
            "Epoch 10/15\n",
            "422/422 [==============================] - 38s 91ms/step - loss: 0.0428 - accuracy: 0.9862 - val_loss: 0.0338 - val_accuracy: 0.9912\n",
            "Epoch 11/15\n",
            "422/422 [==============================] - 39s 93ms/step - loss: 0.0407 - accuracy: 0.9872 - val_loss: 0.0316 - val_accuracy: 0.9912\n",
            "Epoch 12/15\n",
            "422/422 [==============================] - 38s 90ms/step - loss: 0.0380 - accuracy: 0.9877 - val_loss: 0.0291 - val_accuracy: 0.9922\n",
            "Epoch 13/15\n",
            "422/422 [==============================] - 38s 90ms/step - loss: 0.0368 - accuracy: 0.9887 - val_loss: 0.0317 - val_accuracy: 0.9910\n",
            "Epoch 14/15\n",
            "422/422 [==============================] - 38s 91ms/step - loss: 0.0350 - accuracy: 0.9889 - val_loss: 0.0281 - val_accuracy: 0.9920\n",
            "Epoch 15/15\n",
            "422/422 [==============================] - 37s 87ms/step - loss: 0.0327 - accuracy: 0.9890 - val_loss: 0.0326 - val_accuracy: 0.9890\n"
          ]
        },
        {
          "output_type": "execute_result",
          "data": {
            "text/plain": [
              "<keras.src.callbacks.History at 0x7d96135e3340>"
            ]
          },
          "metadata": {},
          "execution_count": 5
        }
      ],
      "source": [
        "batch_size = 128\n",
        "epochs = 15\n",
        "\n",
        "model.compile(loss=\"categorical_crossentropy\", optimizer=\"adam\", metrics=[\"accuracy\"])\n",
        "\n",
        "model.fit(x_train, y_train, batch_size=batch_size, epochs=epochs, validation_split=0.1)"
      ]
    },
    {
      "cell_type": "code",
      "execution_count": null,
      "metadata": {
        "colab": {
          "base_uri": "https://localhost:8080/"
        },
        "id": "l8sC7f60XMPN",
        "outputId": "d5159af4-5ea4-4e89-e103-c9be345bacd0"
      },
      "outputs": [
        {
          "output_type": "stream",
          "name": "stdout",
          "text": [
            "Test loss: 0.029932668432593346\n",
            "Test accuracy: 0.989799976348877\n"
          ]
        }
      ],
      "source": [
        "score = model.evaluate(x_test, y_test, verbose=0)\n",
        "print(\"Test loss:\", score[0])\n",
        "print(\"Test accuracy:\", score[1])"
      ]
    },
    {
      "cell_type": "code",
      "execution_count": null,
      "metadata": {
        "colab": {
          "base_uri": "https://localhost:8080/",
          "height": 638
        },
        "id": "6ctUV-soXfl0",
        "outputId": "63d9e571-2b5c-46ea-c469-9e2f28ce112b"
      },
      "outputs": [
        {
          "output_type": "display_data",
          "data": {
            "text/plain": [
              "<Figure size 640x480 with 1 Axes>"
            ],
            "image/png": "[encoded data removed]"
          },
          "metadata": {}
        },
        {
          "output_type": "stream",
          "name": "stdout",
          "text": [
            "1/1 [==============================] - 0s 20ms/step\n",
            "Predictions (in percentages) for each class:\n",
            "Class 0: 0.00%\n",
            "Class 1: 0.00%\n",
            "Class 2: 0.00%\n",
            "Class 3: 0.00%\n",
            "Class 4: 99.99%\n",
            "Class 5: 0.00%\n",
            "Class 6: 0.00%\n",
            "Class 7: 0.00%\n",
            "Class 8: 0.00%\n",
            "Class 9: 0.01%\n"
          ]
        }
      ],
      "source": [
        "import matplotlib.pyplot as plt\n",
        "test_images = x_test\n",
        "# For example, if test_images[4] is a single image with shape (28, 28, 1)\n",
        "img = test_images[4]\n",
        "\n",
        "# Display the image\n",
        "plt.imshow(img.squeeze(), cmap='gray')\n",
        "plt.show()\n",
        "\n",
        "# Reshape the image to match the model's input requirements (1, 28, 28, 1)\n",
        "img_reshaped = np.expand_dims(img, axis=0)\n",
        "\n",
        "# Predict using the reshaped image\n",
        "prediction = model.predict(img_reshaped)\n",
        "\n",
        "# Print the prediction\n",
        "print(\"Predictions (in percentages) for each class:\")\n",
        "for idx, prob in enumerate(prediction[0]):\n",
        "    print(f\"Class {idx}: {prob*100:.2f}%\")"
      ]
    },
    {
      "cell_type": "code",
      "execution_count": null,
      "metadata": {
        "colab": {
          "base_uri": "https://localhost:8080/"
        },
        "id": "Cma5WhlCXopa",
        "outputId": "5b35af65-ce7c-46be-fa17-e76198491a77"
      },
      "outputs": [
        {
          "output_type": "stream",
          "name": "stdout",
          "text": [
            "Drive already mounted at /content/drive; to attempt to forcibly remount, call drive.mount(\"/content/drive\", force_remount=True).\n"
          ]
        }
      ],
      "source": [
        "from google.colab import drive\n",
        "drive.mount('/content/drive')"
      ]
    },
    {
      "cell_type": "code",
      "source": [
        "import matplotlib.pyplot as plt\n",
        "import numpy as np\n",
        "from tensorflow.keras.preprocessing.image import load_img, img_to_array\n",
        "\n",
        "# Load the image from the specified path and resize it to 28x28\n",
        "img_path = \"/content/drive/MyDrive/RANDOM_IMAGE_FOR_TEST/Nummer_2.jpg\"\n",
        "img = load_img(img_path, color_mode='grayscale', target_size=(28, 28))\n",
        "\n",
        "# Convert the image to an array\n",
        "img_array = img_to_array(img)\n",
        "\n",
        "\n",
        "# Display the resized image\n",
        "plt.imshow(img_array.squeeze(), cmap='gray')\n",
        "plt.show()\n",
        "\n",
        "# Reshape the image to match the model's input requirements (1, 28, 28, 1)\n",
        "img_reshaped = np.expand_dims(img_array, axis=0)\n",
        "\n",
        "# Predict using the reshaped image\n",
        "prediction = model.predict(img_reshaped)\n",
        "\n",
        "# Print the prediction\n",
        "print(\"Predictions (in percentages) for each class:\")\n",
        "for idx, prob in enumerate(prediction[0]):\n",
        "    print(f\"Class {idx}: {prob*100:.2f}%\")\n"
      ],
      "metadata": {
        "colab": {
          "base_uri": "https://localhost:8080/",
          "height": 638
        },
        "id": "xBA7lvNP4lzV",
        "outputId": "b16e28cd-46d7-4c2c-dd99-ed1f33e4af81"
      },
      "execution_count": null,
      "outputs": [
        {
          "output_type": "display_data",
          "data": {
            "text/plain": [
              "<Figure size 640x480 with 1 Axes>"
            ],
            "image/png": "[encoded data removed]"
          },
          "metadata": {}
        },
        {
          "output_type": "stream",
          "name": "stdout",
          "text": [
            "1/1 [==============================] - 0s 32ms/step\n",
            "Predictions (in percentages) for each class:\n",
            "Class 0: 0.00%\n",
            "Class 1: 0.00%\n",
            "Class 2: 100.00%\n",
            "Class 3: 0.00%\n",
            "Class 4: 0.00%\n",
            "Class 5: 0.00%\n",
            "Class 6: 0.00%\n",
            "Class 7: 0.00%\n",
            "Class 8: 0.00%\n",
            "Class 9: 0.00%\n"
          ]
        }
      ]
    },
    {
      "cell_type": "code",
      "source": [],
      "metadata": {
        "id": "AAIieGgR4loL"
      },
      "execution_count": null,
      "outputs": []
    }
  ],
  "metadata": {
    "colab": {
      "provenance": [],
      "authorship_tag": "ABX9TyOYLdaZIWYQriuxmUz7xR77",
      "include_colab_link": true
    },
    "kernelspec": {
      "display_name": "Python 3",
      "name": "python3"
    },
    "language_info": {
      "name": "python"
    }
  },
  "nbformat": 4,
  "nbformat_minor": 0
}